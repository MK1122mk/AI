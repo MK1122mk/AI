{
  "nbformat": 4,
  "nbformat_minor": 0,
  "metadata": {
    "colab": {
      "name": "AI assignment 2 19K-538",
      "provenance": [],
      "authorship_tag": "ABX9TyMUMAG//brFKlka46OAJPF6",
      "include_colab_link": true
    },
    "kernelspec": {
      "name": "python3",
      "display_name": "Python 3"
    },
    "language_info": {
      "name": "python"
    }
  },
  "cells": [
    {
      "cell_type": "markdown",
      "metadata": {
        "id": "view-in-github",
        "colab_type": "text"
      },
      "source": [
        "<a href=\"https://colab.research.google.com/github/MK1122mk/AI/blob/main/AI_assignment_2_19K_538.ipynb\" target=\"_parent\"><img src=\"https://colab.research.google.com/assets/colab-badge.svg\" alt=\"Open In Colab\"/></a>"
      ]
    },
    {
      "cell_type": "code",
      "metadata": {
        "colab": {
          "base_uri": "https://localhost:8080/"
        },
        "id": "6Txd_aSNoxwX",
        "outputId": "3a3f300d-21d5-48bf-c8ec-1a12afc14fb7"
      },
      "source": [
        "import numpy as np\n",
        "import math\n",
        "x=np.random.uniform(-5,5)\n",
        "eta=0.1\n",
        "iter_max=50\n",
        "iter=1\n",
        "while iter<=iter_max:\n",
        "  g_x = 4*x*x*x + 6*x\n",
        "  d_x=-eta*g_x\n",
        "  x=x+d_x\n",
        "  iter=iter+1\n",
        "obj=pow(x,4)+3*pow(x,2)+10\n",
        "print(\"Minimum =\",obj,\"at X=\",x,)"
      ],
      "execution_count": 3,
      "outputs": [
        {
          "output_type": "stream",
          "name": "stdout",
          "text": [
            "Minimum = 10.0 at X= -4.3715151923686804e-21\n"
          ]
        }
      ]
    }
  ]
}