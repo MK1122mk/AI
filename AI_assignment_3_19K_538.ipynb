{
  "nbformat": 4,
  "nbformat_minor": 0,
  "metadata": {
    "colab": {
      "name": "AI assignment 3 19K-538",
      "provenance": [],
      "authorship_tag": "ABX9TyMzSefpyXgcWIC4nONA7MDa",
      "include_colab_link": true
    },
    "kernelspec": {
      "name": "python3",
      "display_name": "Python 3"
    },
    "language_info": {
      "name": "python"
    }
  },
  "cells": [
    {
      "cell_type": "markdown",
      "metadata": {
        "id": "view-in-github",
        "colab_type": "text"
      },
      "source": [
        "<a href=\"https://colab.research.google.com/github/MK1122mk/AI/blob/main/AI_assignment_3_19K_538.ipynb\" target=\"_parent\"><img src=\"https://colab.research.google.com/assets/colab-badge.svg\" alt=\"Open In Colab\"/></a>"
      ]
    },
    {
      "cell_type": "code",
      "metadata": {
        "colab": {
          "base_uri": "https://localhost:8080/"
        },
        "id": "TuX-nbFDrBGp",
        "outputId": "78986fd7-c241-4112-86ea-4f74be27e6c5"
      },
      "source": [
        "import numpy as np\n",
        "import math\n",
        "x=np.random.uniform(-10,10)\n",
        "y=np.random.uniform(-10,10)\n",
        "eta=0.1\n",
        "iter_max=30\n",
        "iter=1\n",
        "while iter<=iter_max:\n",
        "  g_x= 6*x\n",
        "  g_y= -5*(math.exp(-y))\n",
        "  d_x=-eta*g_x\n",
        "  d_y=-eta*g_y\n",
        "  x=x+d_x\n",
        "  y=y+d_y\n",
        "  iter=iter+1\n",
        "obj=3*x*x+5*math.exp(-y)+10\n",
        "print(\"Minimum =\",obj,\"at X=\",x,\"Y=\",y)"
      ],
      "execution_count": 1,
      "outputs": [
        {
          "output_type": "stream",
          "name": "stdout",
          "text": [
            "Minimum = 10.30270419378842 at X= -6.2278121636163165e-12 Y= 2.804437120881232\n"
          ]
        }
      ]
    }
  ]
}