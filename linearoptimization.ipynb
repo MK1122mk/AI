{
  "nbformat": 4,
  "nbformat_minor": 0,
  "metadata": {
    "colab": {
      "name": "linearoptimization",
      "provenance": [],
      "collapsed_sections": [],
      "authorship_tag": "ABX9TyN0mpYu2VhhKE5Wix4LrMgl",
      "include_colab_link": true
    },
    "kernelspec": {
      "name": "python3",
      "display_name": "Python 3"
    },
    "language_info": {
      "name": "python"
    }
  },
  "cells": [
    {
      "cell_type": "markdown",
      "metadata": {
        "id": "view-in-github",
        "colab_type": "text"
      },
      "source": [
        "<a href=\"https://colab.research.google.com/github/MK1122mk/AI/blob/main/linearoptimization.ipynb\" target=\"_parent\"><img src=\"https://colab.research.google.com/assets/colab-badge.svg\" alt=\"Open In Colab\"/></a>"
      ]
    },
    {
      "cell_type": "code",
      "metadata": {
        "colab": {
          "base_uri": "https://localhost:8080/"
        },
        "id": "SyX9FEixh5M_",
        "outputId": "5c0e4882-8689-4bbb-cbbc-ff0c9a746b42"
      },
      "source": [
        "from scipy.optimize import linprog\n",
        "obj=[-50,-120]\n",
        "A_ieq=[[7000,2000],[10,30],[1,1]]\n",
        "b_ieq=[700000,1200,110]\n",
        "\n",
        "boundery=[(0,float('inf')),(0,float('inf'))]\n",
        "opt=linprog(c=obj,A_ub=A_ieq,b_ub=b_ieq,A_eq=None,b_eq=None,bounds=boundery,method=\"Simplex\")\n",
        "opt.x\n",
        "profit=round((opt.x[0]*50)+(opt.x[1]*120))\n",
        "print(\"The total area for growing wheat=\",round(opt.x[0]))\n",
        "print(\"The total area for growing barley=\",round(opt.x[1]))\n",
        "print(\"The total profit is=\",profit)\n"
      ],
      "execution_count": 2,
      "outputs": [
        {
          "output_type": "stream",
          "text": [
            "The total area for growing wheat= 98\n",
            "The total area for growing barley= 7\n",
            "The total profit is= 5779\n"
          ],
          "name": "stdout"
        }
      ]
    }
  ]
}