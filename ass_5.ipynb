{
  "nbformat": 4,
  "nbformat_minor": 0,
  "metadata": {
    "colab": {
      "name": "ass-5.ipynb",
      "provenance": [],
      "authorship_tag": "ABX9TyOV/IIYeaRgMGRdWIDbUvby",
      "include_colab_link": true
    },
    "kernelspec": {
      "name": "python3",
      "display_name": "Python 3"
    },
    "language_info": {
      "name": "python"
    }
  },
  "cells": [
    {
      "cell_type": "markdown",
      "metadata": {
        "id": "view-in-github",
        "colab_type": "text"
      },
      "source": [
        "<a href=\"https://colab.research.google.com/github/MK1122mk/AI/blob/main/ass_5.ipynb\" target=\"_parent\"><img src=\"https://colab.research.google.com/assets/colab-badge.svg\" alt=\"Open In Colab\"/></a>"
      ]
    },
    {
      "cell_type": "code",
      "metadata": {
        "colab": {
          "base_uri": "https://localhost:8080/"
        },
        "id": "CCNYmRasBv_e",
        "outputId": "68846027-a664-4149-b6d0-e3d268f37713"
      },
      "source": [
        "from google.colab import drive\n",
        "drive.mount('/content/drive')"
      ],
      "execution_count": null,
      "outputs": [
        {
          "output_type": "stream",
          "name": "stdout",
          "text": [
            "Mounted at /content/drive\n"
          ]
        }
      ]
    },
    {
      "cell_type": "code",
      "metadata": {
        "id": "eNow23JiCxVZ"
      },
      "source": [
        "import numpy as np\n",
        "import math as mt\n",
        "import pandas as pd\n",
        "from sklearn.model_selection import train_test_split\n",
        "from sklearn.metrics import mean_absolute_error,mean_squared_error"
      ],
      "execution_count": 3,
      "outputs": []
    },
    {
      "cell_type": "code",
      "metadata": {
        "colab": {
          "base_uri": "https://localhost:8080/",
          "height": 203
        },
        "id": "5DR0xyo9DQOq",
        "outputId": "38c77453-8ffa-4ba6-c293-b0ed4237ae3c"
      },
      "source": [
        "data = pd.read_excel('/content/drive/MyDrive/Ai/data.xlsx')\n",
        "data.head()"
      ],
      "execution_count": 4,
      "outputs": [
        {
          "output_type": "execute_result",
          "data": {
            "text/html": [
              "<div>\n",
              "<style scoped>\n",
              "    .dataframe tbody tr th:only-of-type {\n",
              "        vertical-align: middle;\n",
              "    }\n",
              "\n",
              "    .dataframe tbody tr th {\n",
              "        vertical-align: top;\n",
              "    }\n",
              "\n",
              "    .dataframe thead th {\n",
              "        text-align: right;\n",
              "    }\n",
              "</style>\n",
              "<table border=\"1\" class=\"dataframe\">\n",
              "  <thead>\n",
              "    <tr style=\"text-align: right;\">\n",
              "      <th></th>\n",
              "      <th>Unnamed: 0</th>\n",
              "      <th>L(T-3)</th>\n",
              "      <th>L(T-2)</th>\n",
              "      <th>L(T-1)</th>\n",
              "      <th>L(T)</th>\n",
              "    </tr>\n",
              "  </thead>\n",
              "  <tbody>\n",
              "    <tr>\n",
              "      <th>0</th>\n",
              "      <td>1</td>\n",
              "      <td>5551.82208</td>\n",
              "      <td>4983.17184</td>\n",
              "      <td>4888.39680</td>\n",
              "      <td>5072.95872</td>\n",
              "    </tr>\n",
              "    <tr>\n",
              "      <th>1</th>\n",
              "      <td>2</td>\n",
              "      <td>5196.25980</td>\n",
              "      <td>5641.29720</td>\n",
              "      <td>7153.17732</td>\n",
              "      <td>7849.80504</td>\n",
              "    </tr>\n",
              "    <tr>\n",
              "      <th>2</th>\n",
              "      <td>3</td>\n",
              "      <td>6329.97504</td>\n",
              "      <td>6292.87560</td>\n",
              "      <td>5349.80160</td>\n",
              "      <td>5225.40936</td>\n",
              "    </tr>\n",
              "    <tr>\n",
              "      <th>3</th>\n",
              "      <td>4</td>\n",
              "      <td>5000.47452</td>\n",
              "      <td>4775.53968</td>\n",
              "      <td>6177.05676</td>\n",
              "      <td>6177.05676</td>\n",
              "    </tr>\n",
              "    <tr>\n",
              "      <th>4</th>\n",
              "      <td>5</td>\n",
              "      <td>6155.70120</td>\n",
              "      <td>6212.12976</td>\n",
              "      <td>7424.25264</td>\n",
              "      <td>7407.41760</td>\n",
              "    </tr>\n",
              "  </tbody>\n",
              "</table>\n",
              "</div>"
            ],
            "text/plain": [
              "   Unnamed: 0      L(T-3)      L(T-2)      L(T-1)        L(T)\n",
              "0           1  5551.82208  4983.17184  4888.39680  5072.95872\n",
              "1           2  5196.25980  5641.29720  7153.17732  7849.80504\n",
              "2           3  6329.97504  6292.87560  5349.80160  5225.40936\n",
              "3           4  5000.47452  4775.53968  6177.05676  6177.05676\n",
              "4           5  6155.70120  6212.12976  7424.25264  7407.41760"
            ]
          },
          "metadata": {},
          "execution_count": 4
        }
      ]
    },
    {
      "cell_type": "code",
      "metadata": {
        "colab": {
          "base_uri": "https://localhost:8080/",
          "height": 287
        },
        "id": "4QmTs1gbDe9E",
        "outputId": "233c9b89-3e0f-4516-f756-20ac7249a090"
      },
      "source": [
        "def normalize(column):\n",
        "    c_max, c_min = np.max(column), np.min(column)\n",
        "    for i in range(len(column)):\n",
        "        column.iloc[i] = (column.iloc[i] - c_min) / (c_max - c_min)\n",
        "    return c_max, c_min\n",
        "x1max, x1min = normalize(data['L(T-3)'])\n",
        "x2max, x2min = normalize(data['L(T-2)'])\n",
        "x3max, x3min = normalize(data['L(T-1)'])\n",
        "ymax, ymin = normalize(data['L(T)'])\n",
        "data.head()"
      ],
      "execution_count": 5,
      "outputs": [
        {
          "output_type": "stream",
          "name": "stderr",
          "text": [
            "/usr/local/lib/python3.7/dist-packages/pandas/core/indexing.py:670: SettingWithCopyWarning: \n",
            "A value is trying to be set on a copy of a slice from a DataFrame\n",
            "\n",
            "See the caveats in the documentation: https://pandas.pydata.org/pandas-docs/stable/user_guide/indexing.html#returning-a-view-versus-a-copy\n",
            "  iloc._setitem_with_indexer(indexer, value)\n"
          ]
        },
        {
          "output_type": "execute_result",
          "data": {
            "text/html": [
              "<div>\n",
              "<style scoped>\n",
              "    .dataframe tbody tr th:only-of-type {\n",
              "        vertical-align: middle;\n",
              "    }\n",
              "\n",
              "    .dataframe tbody tr th {\n",
              "        vertical-align: top;\n",
              "    }\n",
              "\n",
              "    .dataframe thead th {\n",
              "        text-align: right;\n",
              "    }\n",
              "</style>\n",
              "<table border=\"1\" class=\"dataframe\">\n",
              "  <thead>\n",
              "    <tr style=\"text-align: right;\">\n",
              "      <th></th>\n",
              "      <th>Unnamed: 0</th>\n",
              "      <th>L(T-3)</th>\n",
              "      <th>L(T-2)</th>\n",
              "      <th>L(T-1)</th>\n",
              "      <th>L(T)</th>\n",
              "    </tr>\n",
              "  </thead>\n",
              "  <tbody>\n",
              "    <tr>\n",
              "      <th>0</th>\n",
              "      <td>1</td>\n",
              "      <td>0.318003</td>\n",
              "      <td>0.119312</td>\n",
              "      <td>0.064412</td>\n",
              "      <td>0.121468</td>\n",
              "    </tr>\n",
              "    <tr>\n",
              "      <th>1</th>\n",
              "      <td>2</td>\n",
              "      <td>0.158090</td>\n",
              "      <td>0.497492</td>\n",
              "      <td>0.899988</td>\n",
              "      <td>1.000000</td>\n",
              "    </tr>\n",
              "    <tr>\n",
              "      <th>2</th>\n",
              "      <td>3</td>\n",
              "      <td>0.667975</td>\n",
              "      <td>0.871910</td>\n",
              "      <td>0.234645</td>\n",
              "      <td>0.169700</td>\n",
              "    </tr>\n",
              "    <tr>\n",
              "      <th>3</th>\n",
              "      <td>4</td>\n",
              "      <td>0.070036</td>\n",
              "      <td>0.000000</td>\n",
              "      <td>0.539855</td>\n",
              "      <td>0.470780</td>\n",
              "    </tr>\n",
              "    <tr>\n",
              "      <th>4</th>\n",
              "      <td>5</td>\n",
              "      <td>0.589596</td>\n",
              "      <td>0.825511</td>\n",
              "      <td>1.000000</td>\n",
              "      <td>0.860038</td>\n",
              "    </tr>\n",
              "  </tbody>\n",
              "</table>\n",
              "</div>"
            ],
            "text/plain": [
              "   Unnamed: 0    L(T-3)    L(T-2)    L(T-1)      L(T)\n",
              "0           1  0.318003  0.119312  0.064412  0.121468\n",
              "1           2  0.158090  0.497492  0.899988  1.000000\n",
              "2           3  0.667975  0.871910  0.234645  0.169700\n",
              "3           4  0.070036  0.000000  0.539855  0.470780\n",
              "4           5  0.589596  0.825511  1.000000  0.860038"
            ]
          },
          "metadata": {},
          "execution_count": 5
        }
      ]
    },
    {
      "cell_type": "code",
      "metadata": {
        "colab": {
          "base_uri": "https://localhost:8080/"
        },
        "id": "eBRjtIX0DxB2",
        "outputId": "63d76580-222c-4ba1-8bbd-65a36ee32e68"
      },
      "source": [
        "data.isnull().sum()"
      ],
      "execution_count": 6,
      "outputs": [
        {
          "output_type": "execute_result",
          "data": {
            "text/plain": [
              "Unnamed: 0    0\n",
              "L(T-3)        0\n",
              "L(T-2)        0\n",
              "L(T-1)        0\n",
              "L(T)          0\n",
              "dtype: int64"
            ]
          },
          "metadata": {},
          "execution_count": 6
        }
      ]
    },
    {
      "cell_type": "code",
      "metadata": {
        "id": "tIOU26P_EdiW"
      },
      "source": [
        "X = data [['L(T-3)', 'L(T-2)', 'L(T-1)']]\n",
        "Y = data ['L(T)']\n",
        "xtrain, xtest, ytrain, ytest = train_test_split(X, Y, test_size=0.1, random_state=101)"
      ],
      "execution_count": 7,
      "outputs": []
    },
    {
      "cell_type": "code",
      "metadata": {
        "id": "MW5GWL5MEvRV"
      },
      "source": [
        "m = [np.random.uniform(-10, 10) for i in range(xtrain.shape[1])]\n",
        "c = np.random.uniform(-10, 10)\n",
        "eeta = 0.1\n",
        "epochs = 500"
      ],
      "execution_count": 8,
      "outputs": []
    },
    {
      "cell_type": "code",
      "metadata": {
        "colab": {
          "base_uri": "https://localhost:8080/"
        },
        "id": "i04xuxdMExOO",
        "outputId": "b178af54-51d6-4a37-c197-d67fbb42d2a1"
      },
      "source": [
        "for _ in range(epochs):\n",
        "    for i in range(xtrain.shape[0]):\n",
        "        y, ypred = ytrain.iloc[i], sum([xtrain.iat[i,z] * m[z] for z in range(xtrain.shape[1])]) + c\n",
        "        gradm = [-1 * xtrain.iat[i,j] * (y - ypred) for j in range(xtrain.shape[1])]\n",
        "        gradc = -1 * (y - ypred)\n",
        "        c = c - eeta * gradc\n",
        "        for j in range(len(m)):\n",
        "            m[j] = m[j] - eeta * gradm[j]\n",
        "print(m, c)"
      ],
      "execution_count": 9,
      "outputs": [
        {
          "output_type": "stream",
          "name": "stdout",
          "text": [
            "[-0.48460860866463196, 0.22073304697858814, 0.9650842680622831] -0.00691992783213582\n"
          ]
        }
      ]
    },
    {
      "cell_type": "code",
      "metadata": {
        "id": "2rC7di43FTJl"
      },
      "source": [
        "ytrainPred = []\n",
        "for x in range(xtrain.shape[0]):\n",
        "    ytrainPred.append(sum([xtrain.iat[x, z] * m[z] for z in range(xtrain.shape[1])]) + c)\n",
        "ytestPred = []\n",
        "for x in range(xtest.shape[0]):\n",
        "    ytestPred.append(sum([xtest.iat[x, z] * m[z] for z in range(xtest.shape[1])]) + c)"
      ],
      "execution_count": 10,
      "outputs": []
    },
    {
      "cell_type": "code",
      "metadata": {
        "colab": {
          "base_uri": "https://localhost:8080/"
        },
        "id": "DCrSLIo_FVh2",
        "outputId": "96a62705-3e58-4b4c-9f9b-ac6416f56f4f"
      },
      "source": [
        "xtrain['L(T-3)'] = xtrain['L(T-3)'] * (x1max - x1min) + x1min\n",
        "xtrain['L(T-2)'] = xtrain['L(T-2)'] * (x2max - x2min) + x2min\n",
        "xtrain['L(T-1)'] = xtrain['L(T-1)'] * (x3max - x3min) + x3min\n",
        "ytrain = ytrain * (ymax - ymin) + ymin\n",
        "xtest['L(T-3)'] = xtest['L(T-3)'] * (x1max - x1min) + x1min\n",
        "xtest['L(T-2)'] = xtest['L(T-2)'] * (x2max - x2min) + x2min\n",
        "xtest['L(T-1)'] = xtest['L(T-1)'] * (x3max - x3min) + x3min\n",
        "ytest = ytest * (ymax - ymin) + ymin\n",
        "ytrainPred = np.multiply(ytrainPred, (ymax - ymin)) + ymin\n",
        "ytestPred = np.multiply(ytestPred, (ymax - ymin)) + ymin"
      ],
      "execution_count": 11,
      "outputs": [
        {
          "output_type": "stream",
          "name": "stderr",
          "text": [
            "/usr/local/lib/python3.7/dist-packages/ipykernel_launcher.py:1: SettingWithCopyWarning: \n",
            "A value is trying to be set on a copy of a slice from a DataFrame.\n",
            "Try using .loc[row_indexer,col_indexer] = value instead\n",
            "\n",
            "See the caveats in the documentation: https://pandas.pydata.org/pandas-docs/stable/user_guide/indexing.html#returning-a-view-versus-a-copy\n",
            "  \"\"\"Entry point for launching an IPython kernel.\n",
            "/usr/local/lib/python3.7/dist-packages/ipykernel_launcher.py:2: SettingWithCopyWarning: \n",
            "A value is trying to be set on a copy of a slice from a DataFrame.\n",
            "Try using .loc[row_indexer,col_indexer] = value instead\n",
            "\n",
            "See the caveats in the documentation: https://pandas.pydata.org/pandas-docs/stable/user_guide/indexing.html#returning-a-view-versus-a-copy\n",
            "  \n",
            "/usr/local/lib/python3.7/dist-packages/ipykernel_launcher.py:3: SettingWithCopyWarning: \n",
            "A value is trying to be set on a copy of a slice from a DataFrame.\n",
            "Try using .loc[row_indexer,col_indexer] = value instead\n",
            "\n",
            "See the caveats in the documentation: https://pandas.pydata.org/pandas-docs/stable/user_guide/indexing.html#returning-a-view-versus-a-copy\n",
            "  This is separate from the ipykernel package so we can avoid doing imports until\n",
            "/usr/local/lib/python3.7/dist-packages/ipykernel_launcher.py:5: SettingWithCopyWarning: \n",
            "A value is trying to be set on a copy of a slice from a DataFrame.\n",
            "Try using .loc[row_indexer,col_indexer] = value instead\n",
            "\n",
            "See the caveats in the documentation: https://pandas.pydata.org/pandas-docs/stable/user_guide/indexing.html#returning-a-view-versus-a-copy\n",
            "  \"\"\"\n",
            "/usr/local/lib/python3.7/dist-packages/ipykernel_launcher.py:6: SettingWithCopyWarning: \n",
            "A value is trying to be set on a copy of a slice from a DataFrame.\n",
            "Try using .loc[row_indexer,col_indexer] = value instead\n",
            "\n",
            "See the caveats in the documentation: https://pandas.pydata.org/pandas-docs/stable/user_guide/indexing.html#returning-a-view-versus-a-copy\n",
            "  \n",
            "/usr/local/lib/python3.7/dist-packages/ipykernel_launcher.py:7: SettingWithCopyWarning: \n",
            "A value is trying to be set on a copy of a slice from a DataFrame.\n",
            "Try using .loc[row_indexer,col_indexer] = value instead\n",
            "\n",
            "See the caveats in the documentation: https://pandas.pydata.org/pandas-docs/stable/user_guide/indexing.html#returning-a-view-versus-a-copy\n",
            "  import sys\n"
          ]
        }
      ]
    },
    {
      "cell_type": "code",
      "metadata": {
        "colab": {
          "base_uri": "https://localhost:8080/"
        },
        "id": "ELwqxu4_F4GW",
        "outputId": "ad869fab-b317-4aad-cc33-07ccfa0ae01b"
      },
      "source": [
        "MAE_Train = mean_absolute_error(ytrainPred, ytrain) #Testing MAE\n",
        "MSE_Train = mean_squared_error(ytrainPred, ytrain) #Testing MSE\n",
        "RMSE_Train = mean_squared_error(ytrainPred, ytrain) ** 0.5 #Testing RMSE\n",
        "MAE_Test = mean_absolute_error(ytestPred, ytest) #Testing MAE\n",
        "MSE_Test = mean_squared_error(ytestPred, ytest) #Testing MSE\n",
        "RMSE_Test = mean_squared_error(ytestPred, ytest) ** 0.5 #Testing RMSE\n",
        "print('Training Error :')\n",
        "print('Mean Absolute Error :', MAE_Train)\n",
        "print('Mean Squared Error :', MSE_Train)\n",
        "print('Root Mean Squared Error :', RMSE_Train)\n",
        "print('\\nTesting Error :')\n",
        "print('Mean Absolute Error :', MAE_Test)\n",
        "print('Mean Squared Error :', MSE_Test)\n",
        "print('Root Mean Squared Error :', RMSE_Test)"
      ],
      "execution_count": 12,
      "outputs": [
        {
          "output_type": "stream",
          "name": "stdout",
          "text": [
            "Training Error :\n",
            "Mean Absolute Error : 171.0325178337168\n",
            "Mean Squared Error : 44071.64364553002\n",
            "Root Mean Squared Error : 209.93247401374094\n",
            "\n",
            "Testing Error :\n",
            "Mean Absolute Error : 613.1765817510513\n",
            "Mean Squared Error : 375985.52040790376\n",
            "Root Mean Squared Error : 613.1765817510513\n"
          ]
        }
      ]
    },
    {
      "cell_type": "code",
      "metadata": {
        "colab": {
          "base_uri": "https://localhost:8080/",
          "height": 466
        },
        "id": "dV1Zo9T5GAn2",
        "outputId": "aca32fc3-0e15-4fc8-a475-3b6289bf2e5e"
      },
      "source": [
        "xtrain['Y_Train'] = ytrain\n",
        "xtrain['Y_Train_Prediction'] = ytrainPred\n",
        "xtrain"
      ],
      "execution_count": 13,
      "outputs": [
        {
          "output_type": "stream",
          "name": "stderr",
          "text": [
            "/usr/local/lib/python3.7/dist-packages/ipykernel_launcher.py:1: SettingWithCopyWarning: \n",
            "A value is trying to be set on a copy of a slice from a DataFrame.\n",
            "Try using .loc[row_indexer,col_indexer] = value instead\n",
            "\n",
            "See the caveats in the documentation: https://pandas.pydata.org/pandas-docs/stable/user_guide/indexing.html#returning-a-view-versus-a-copy\n",
            "  \"\"\"Entry point for launching an IPython kernel.\n",
            "/usr/local/lib/python3.7/dist-packages/ipykernel_launcher.py:2: SettingWithCopyWarning: \n",
            "A value is trying to be set on a copy of a slice from a DataFrame.\n",
            "Try using .loc[row_indexer,col_indexer] = value instead\n",
            "\n",
            "See the caveats in the documentation: https://pandas.pydata.org/pandas-docs/stable/user_guide/indexing.html#returning-a-view-versus-a-copy\n",
            "  \n"
          ]
        },
        {
          "output_type": "execute_result",
          "data": {
            "text/html": [
              "<div>\n",
              "<style scoped>\n",
              "    .dataframe tbody tr th:only-of-type {\n",
              "        vertical-align: middle;\n",
              "    }\n",
              "\n",
              "    .dataframe tbody tr th {\n",
              "        vertical-align: top;\n",
              "    }\n",
              "\n",
              "    .dataframe thead th {\n",
              "        text-align: right;\n",
              "    }\n",
              "</style>\n",
              "<table border=\"1\" class=\"dataframe\">\n",
              "  <thead>\n",
              "    <tr style=\"text-align: right;\">\n",
              "      <th></th>\n",
              "      <th>L(T-3)</th>\n",
              "      <th>L(T-2)</th>\n",
              "      <th>L(T-1)</th>\n",
              "      <th>Y_Train</th>\n",
              "      <th>Y_Train_Prediction</th>\n",
              "    </tr>\n",
              "  </thead>\n",
              "  <tbody>\n",
              "    <tr>\n",
              "      <th>2</th>\n",
              "      <td>6329.97504</td>\n",
              "      <td>6292.87560</td>\n",
              "      <td>5349.80160</td>\n",
              "      <td>5225.40936</td>\n",
              "      <td>4968.074250</td>\n",
              "    </tr>\n",
              "    <tr>\n",
              "      <th>5</th>\n",
              "      <td>7068.22272</td>\n",
              "      <td>6515.78400</td>\n",
              "      <td>6350.08356</td>\n",
              "      <td>5502.25224</td>\n",
              "      <td>5674.615120</td>\n",
              "    </tr>\n",
              "    <tr>\n",
              "      <th>4</th>\n",
              "      <td>6155.70120</td>\n",
              "      <td>6212.12976</td>\n",
              "      <td>7424.25264</td>\n",
              "      <td>7407.41760</td>\n",
              "      <td>7390.412449</td>\n",
              "    </tr>\n",
              "    <tr>\n",
              "      <th>6</th>\n",
              "      <td>4931.26380</td>\n",
              "      <td>4775.53968</td>\n",
              "      <td>4713.81120</td>\n",
              "      <td>4689.02628</td>\n",
              "      <td>4607.555207</td>\n",
              "    </tr>\n",
              "    <tr>\n",
              "      <th>1</th>\n",
              "      <td>5196.25980</td>\n",
              "      <td>5641.29720</td>\n",
              "      <td>7153.17732</td>\n",
              "      <td>7849.80504</td>\n",
              "      <td>7517.435895</td>\n",
              "    </tr>\n",
              "    <tr>\n",
              "      <th>3</th>\n",
              "      <td>5000.47452</td>\n",
              "      <td>4775.53968</td>\n",
              "      <td>6177.05676</td>\n",
              "      <td>6177.05676</td>\n",
              "      <td>6206.659790</td>\n",
              "    </tr>\n",
              "    <tr>\n",
              "      <th>7</th>\n",
              "      <td>4844.75040</td>\n",
              "      <td>5571.46296</td>\n",
              "      <td>6150.71304</td>\n",
              "      <td>6296.30496</td>\n",
              "      <td>6603.386196</td>\n",
              "    </tr>\n",
              "  </tbody>\n",
              "</table>\n",
              "</div>"
            ],
            "text/plain": [
              "       L(T-3)      L(T-2)      L(T-1)     Y_Train  Y_Train_Prediction\n",
              "2  6329.97504  6292.87560  5349.80160  5225.40936         4968.074250\n",
              "5  7068.22272  6515.78400  6350.08356  5502.25224         5674.615120\n",
              "4  6155.70120  6212.12976  7424.25264  7407.41760         7390.412449\n",
              "6  4931.26380  4775.53968  4713.81120  4689.02628         4607.555207\n",
              "1  5196.25980  5641.29720  7153.17732  7849.80504         7517.435895\n",
              "3  5000.47452  4775.53968  6177.05676  6177.05676         6206.659790\n",
              "7  4844.75040  5571.46296  6150.71304  6296.30496         6603.386196"
            ]
          },
          "metadata": {},
          "execution_count": 13
        }
      ]
    },
    {
      "cell_type": "code",
      "metadata": {
        "colab": {
          "base_uri": "https://localhost:8080/",
          "height": 282
        },
        "id": "VoJjIjoKGEeW",
        "outputId": "0d8428d3-8f0c-42c9-e6d4-b619363f5188"
      },
      "source": [
        "xtest['Y_Test'] = ytest\n",
        "xtest['Y_Test_Prediction'] = ytestPred\n",
        "xtest"
      ],
      "execution_count": 14,
      "outputs": [
        {
          "output_type": "stream",
          "name": "stderr",
          "text": [
            "/usr/local/lib/python3.7/dist-packages/ipykernel_launcher.py:1: SettingWithCopyWarning: \n",
            "A value is trying to be set on a copy of a slice from a DataFrame.\n",
            "Try using .loc[row_indexer,col_indexer] = value instead\n",
            "\n",
            "See the caveats in the documentation: https://pandas.pydata.org/pandas-docs/stable/user_guide/indexing.html#returning-a-view-versus-a-copy\n",
            "  \"\"\"Entry point for launching an IPython kernel.\n",
            "/usr/local/lib/python3.7/dist-packages/ipykernel_launcher.py:2: SettingWithCopyWarning: \n",
            "A value is trying to be set on a copy of a slice from a DataFrame.\n",
            "Try using .loc[row_indexer,col_indexer] = value instead\n",
            "\n",
            "See the caveats in the documentation: https://pandas.pydata.org/pandas-docs/stable/user_guide/indexing.html#returning-a-view-versus-a-copy\n",
            "  \n"
          ]
        },
        {
          "output_type": "execute_result",
          "data": {
            "text/html": [
              "<div>\n",
              "<style scoped>\n",
              "    .dataframe tbody tr th:only-of-type {\n",
              "        vertical-align: middle;\n",
              "    }\n",
              "\n",
              "    .dataframe tbody tr th {\n",
              "        vertical-align: top;\n",
              "    }\n",
              "\n",
              "    .dataframe thead th {\n",
              "        text-align: right;\n",
              "    }\n",
              "</style>\n",
              "<table border=\"1\" class=\"dataframe\">\n",
              "  <thead>\n",
              "    <tr style=\"text-align: right;\">\n",
              "      <th></th>\n",
              "      <th>L(T-3)</th>\n",
              "      <th>L(T-2)</th>\n",
              "      <th>L(T-1)</th>\n",
              "      <th>Y_Test</th>\n",
              "      <th>Y_Test_Prediction</th>\n",
              "    </tr>\n",
              "  </thead>\n",
              "  <tbody>\n",
              "    <tr>\n",
              "      <th>0</th>\n",
              "      <td>5551.82208</td>\n",
              "      <td>4983.17184</td>\n",
              "      <td>4888.3968</td>\n",
              "      <td>5072.95872</td>\n",
              "      <td>4459.782138</td>\n",
              "    </tr>\n",
              "  </tbody>\n",
              "</table>\n",
              "</div>"
            ],
            "text/plain": [
              "       L(T-3)      L(T-2)     L(T-1)      Y_Test  Y_Test_Prediction\n",
              "0  5551.82208  4983.17184  4888.3968  5072.95872        4459.782138"
            ]
          },
          "metadata": {},
          "execution_count": 14
        }
      ]
    },
    {
      "cell_type": "code",
      "metadata": {
        "colab": {
          "base_uri": "https://localhost:8080/"
        },
        "id": "nQy1pFy7Grmy",
        "outputId": "2df6d8a3-523e-4a51-b185-1659b984afc0"
      },
      "source": [
        "x1 = float(input('Enter load at T-3 hours : '))\n",
        "x2 = float(input('Enter load at T-2 hours : '))\n",
        "x3 = float(input('Enter load at T-1 hours : '))\n",
        "x1Norm = (x1 - x1min) / (x1max - x1min)\n",
        "x2Norm = (x2 - x2min) / (x2max - x2min)\n",
        "x3Norm = (x3 - x3min) / (x3max - x3min)\n",
        "yPred = x1Norm * m[0] + x2Norm * m[1] + x3Norm * m[2] + c\n",
        "y = yPred * (ymax - ymin) + ymin\n",
        "print('Load at T hour :', y)"
      ],
      "execution_count": 15,
      "outputs": [
        {
          "output_type": "stream",
          "name": "stdout",
          "text": [
            "Enter load at T-3 hours : 5\n",
            "Enter load at T-2 hours : 7\n",
            "Enter load at T-1 hours : 8\n",
            "Load at T hour : 793.3918916869461\n"
          ]
        }
      ]
    }
  ]
}